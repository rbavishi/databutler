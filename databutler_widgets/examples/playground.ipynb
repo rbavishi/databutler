{
 "cells": [
  {
   "cell_type": "code",
   "execution_count": 1,
   "id": "fcc0a10d",
   "metadata": {},
   "outputs": [],
   "source": [
    "from databutler_widgets.datana.widget import DatanaExampleWidget"
   ]
  },
  {
   "cell_type": "code",
   "execution_count": 2,
   "id": "7c715351",
   "metadata": {},
   "outputs": [
    {
     "data": {
      "application/vnd.jupyter.widget-view+json": {
       "model_id": "e6e70417405c422393944a497eaa8aa6",
       "version_major": 2,
       "version_minor": 0
      },
      "text/plain": [
       "DatanaExampleWidget()"
      ]
     },
     "metadata": {},
     "output_type": "display_data"
    }
   ],
   "source": [
    "w = DatanaExampleWidget()\n",
    "w"
   ]
  },
  {
   "cell_type": "code",
   "execution_count": 4,
   "id": "7eff39e4-e542-42cf-b90b-fa28ee5ce64a",
   "metadata": {},
   "outputs": [
    {
     "data": {
      "text/plain": [
       "'pie chart'"
      ]
     },
     "execution_count": 4,
     "metadata": {},
     "output_type": "execute_result"
    }
   ],
   "source": [
    "w.search_box_value"
   ]
  },
  {
   "cell_type": "code",
   "execution_count": 4,
   "id": "95b37421-1665-4e6a-ab43-c8209cf0fd6c",
   "metadata": {},
   "outputs": [
    {
     "data": {
      "text/plain": [
       "[{'id': '1', 'title': 'pie chart'},\n",
       " {'id': '2', 'title': 'bar chart'},\n",
       " {'id': '3', 'title': 'histogram'},\n",
       " {'id': '4', 'title': 'line'}]"
      ]
     },
     "execution_count": 4,
     "metadata": {},
     "output_type": "execute_result"
    }
   ],
   "source": [
    "w.search_options"
   ]
  },
  {
   "cell_type": "code",
   "execution_count": null,
   "id": "af59628a",
   "metadata": {},
   "outputs": [],
   "source": []
  }
 ],
 "metadata": {
  "kernelspec": {
   "display_name": "Python 3 (ipykernel)",
   "language": "python",
   "name": "python3"
  },
  "language_info": {
   "codemirror_mode": {
    "name": "ipython",
    "version": 3
   },
   "file_extension": ".py",
   "mimetype": "text/x-python",
   "name": "python",
   "nbconvert_exporter": "python",
   "pygments_lexer": "ipython3",
   "version": "3.10.2"
  }
 },
 "nbformat": 4,
 "nbformat_minor": 5
}
