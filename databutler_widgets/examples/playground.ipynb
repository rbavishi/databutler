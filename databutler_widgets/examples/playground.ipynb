{
 "cells": [
  {
   "cell_type": "code",
   "execution_count": 1,
   "id": "fcc0a10d",
   "metadata": {},
   "outputs": [],
   "source": [
    "from databutler_widgets.datana.widget import DatanaExampleWidget"
   ]
  },
  {
   "cell_type": "code",
   "execution_count": 6,
   "id": "7c715351",
   "metadata": {},
   "outputs": [
    {
     "data": {
      "application/vnd.jupyter.widget-view+json": {
       "model_id": "a421f95f627644a1861e842f5e23d789",
       "version_major": 2,
       "version_minor": 0
      },
      "text/plain": [
       "DatanaExampleWidget()"
      ]
     },
     "metadata": {},
     "output_type": "display_data"
    }
   ],
   "source": [
    "w = DatanaExampleWidget()\n",
    "w"
   ]
  },
  {
   "cell_type": "code",
   "execution_count": 5,
   "id": "7eff39e4-e542-42cf-b90b-fa28ee5ce64a",
   "metadata": {},
   "outputs": [],
   "source": [
    "w.value = \"Wow\""
   ]
  },
  {
   "cell_type": "code",
   "execution_count": 6,
   "id": "95b37421-1665-4e6a-ab43-c8209cf0fd6c",
   "metadata": {},
   "outputs": [
    {
     "data": {
      "text/plain": [
       "'Wow Nice'"
      ]
     },
     "execution_count": 6,
     "metadata": {},
     "output_type": "execute_result"
    }
   ],
   "source": [
    "w.value"
   ]
  },
  {
   "cell_type": "code",
   "execution_count": 4,
   "id": "3fc0552f-36a0-4acc-87f0-163cd7ab5af9",
   "metadata": {},
   "outputs": [
    {
     "data": {
      "text/plain": [
       "0"
      ]
     },
     "execution_count": 4,
     "metadata": {},
     "output_type": "execute_result"
    }
   ],
   "source": [
    "w.callback_dummy"
   ]
  },
  {
   "cell_type": "code",
   "execution_count": 7,
   "id": "bb688e71-2f16-4ec4-9c48-75f3b0dcf6e3",
   "metadata": {},
   "outputs": [],
   "source": [
    "MYGLOBAL = 2\n",
    "def dummy():\n",
    "    global MYGLOBAL\n",
    "    MYGLOBAL = 3\n",
    "    \n",
    "w.callback_method(dummy)"
   ]
  },
  {
   "cell_type": "code",
   "execution_count": 9,
   "id": "354ba5f0-3c53-4df6-b165-1b2f39e699a7",
   "metadata": {},
   "outputs": [
    {
     "data": {
      "text/plain": [
       "3"
      ]
     },
     "execution_count": 9,
     "metadata": {},
     "output_type": "execute_result"
    }
   ],
   "source": [
    "MYGLOBAL"
   ]
  },
  {
   "cell_type": "code",
   "execution_count": null,
   "id": "dcc262bc-55ae-473a-be2e-38851a13cf18",
   "metadata": {},
   "outputs": [],
   "source": []
  }
 ],
 "metadata": {
  "kernelspec": {
   "display_name": "Python 3",
   "language": "python",
   "name": "python3"
  },
  "language_info": {
   "codemirror_mode": {
    "name": "ipython",
    "version": 3
   },
   "file_extension": ".py",
   "mimetype": "text/x-python",
   "name": "python",
   "nbconvert_exporter": "python",
   "pygments_lexer": "ipython3",
   "version": "3.7.4"
  }
 },
 "nbformat": 4,
 "nbformat_minor": 5
}
